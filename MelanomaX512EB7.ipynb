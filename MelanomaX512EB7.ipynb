{
  "nbformat": 4,
  "nbformat_minor": 0,
  "metadata": {
    "kernelspec": {
      "name": "python3",
      "display_name": "Python 3",
      "language": "python"
    },
    "language_info": {
      "name": "python",
      "version": "3.7.6",
      "mimetype": "text/x-python",
      "codemirror_mode": {
        "name": "ipython",
        "version": 3
      },
      "pygments_lexer": "ipython3",
      "nbconvert_exporter": "python",
      "file_extension": ".py"
    },
    "colab": {
      "name": "MelanomaX512EB7.ipynb",
      "provenance": [],
      "collapsed_sections": [],
      "include_colab_link": true
    },
    "accelerator": "TPU"
  },
  "cells": [
    {
      "cell_type": "markdown",
      "metadata": {
        "id": "view-in-github",
        "colab_type": "text"
      },
      "source": [
        "<a href=\"https://colab.research.google.com/github/prudhvirajboddu/TensorFlowML/blob/master/MelanomaX512EB7.ipynb\" target=\"_parent\"><img src=\"https://colab.research.google.com/assets/colab-badge.svg\" alt=\"Open In Colab\"/></a>"
      ]
    },
    {
      "cell_type": "code",
      "metadata": {
        "trusted": true,
        "id": "x7xYARWfF_kn",
        "colab_type": "code",
        "colab": {}
      },
      "source": [
        "!pip install -q efficientnet"
      ],
      "execution_count": 1,
      "outputs": []
    },
    {
      "cell_type": "code",
      "metadata": {
        "_uuid": "8f2839f25d086af736a60e9eeb907d3b93b6e0e5",
        "_cell_guid": "b1076dfc-b9ad-4769-8c92-a6c4dae69d19",
        "trusted": true,
        "id": "RVnY1lF-F_ku",
        "colab_type": "code",
        "colab": {}
      },
      "source": [
        "import pandas as pd\n",
        "import re\n",
        "import math\n",
        "import numpy as np\n",
        "import tensorflow as tf\n",
        "import random\n",
        "from tensorflow.keras import *\n",
        "from tensorflow.keras.layers import *\n",
        "#from kaggle_datasets import KaggleDatasets\n",
        "from sklearn.model_selection import KFold,StratifiedKFold\n",
        "import efficientnet.tfkeras as tfn\n",
        "from tensorflow.keras import backend as K\n",
        "#gcs_path=KaggleDatasets().get_gcs_path('512x512-melanoma-tfrecords-70k-images')\n",
        "#print(gcs_path)"
      ],
      "execution_count": 2,
      "outputs": []
    },
    {
      "cell_type": "code",
      "metadata": {
        "trusted": true,
        "id": "rQSxk9lSF_k0",
        "colab_type": "code",
        "colab": {
          "base_uri": "https://localhost:8080/",
          "height": 731
        },
        "outputId": "df64f9a4-3500-4c21-ef48-fd43839250ae"
      },
      "source": [
        "# Detect hardware, return appropriate distribution strategy\n",
        "try:\n",
        "    # TPU detection. No parameters necessary if TPU_NAME environment variable is\n",
        "    # set: this is always the case on Kaggle.\n",
        "    tpu = tf.distribute.cluster_resolver.TPUClusterResolver()\n",
        "    print('Running on TPU ', tpu.master())\n",
        "except ValueError:\n",
        "    tpu = None\n",
        "\n",
        "if tpu:\n",
        "    tf.config.experimental_connect_to_cluster(tpu)\n",
        "    tf.tpu.experimental.initialize_tpu_system(tpu)\n",
        "    strategy = tf.distribute.experimental.TPUStrategy(tpu)\n",
        "else:\n",
        "    # Default distribution strategy in Tensorflow. Works on CPU and single GPU.\n",
        "    strategy = tf.distribute.get_strategy()\n",
        "\n",
        "print(\"REPLICAS: \", strategy.num_replicas_in_sync)"
      ],
      "execution_count": 3,
      "outputs": [
        {
          "output_type": "stream",
          "text": [
            "Running on TPU  grpc://10.15.25.186:8470\n",
            "INFO:tensorflow:Initializing the TPU system: grpc://10.15.25.186:8470\n"
          ],
          "name": "stdout"
        },
        {
          "output_type": "stream",
          "text": [
            "INFO:tensorflow:Initializing the TPU system: grpc://10.15.25.186:8470\n"
          ],
          "name": "stderr"
        },
        {
          "output_type": "stream",
          "text": [
            "INFO:tensorflow:Clearing out eager caches\n"
          ],
          "name": "stdout"
        },
        {
          "output_type": "stream",
          "text": [
            "INFO:tensorflow:Clearing out eager caches\n"
          ],
          "name": "stderr"
        },
        {
          "output_type": "stream",
          "text": [
            "INFO:tensorflow:Finished initializing TPU system.\n"
          ],
          "name": "stdout"
        },
        {
          "output_type": "stream",
          "text": [
            "INFO:tensorflow:Finished initializing TPU system.\n"
          ],
          "name": "stderr"
        },
        {
          "output_type": "stream",
          "text": [
            "INFO:tensorflow:Found TPU system:\n"
          ],
          "name": "stdout"
        },
        {
          "output_type": "stream",
          "text": [
            "INFO:tensorflow:Found TPU system:\n"
          ],
          "name": "stderr"
        },
        {
          "output_type": "stream",
          "text": [
            "INFO:tensorflow:*** Num TPU Cores: 8\n"
          ],
          "name": "stdout"
        },
        {
          "output_type": "stream",
          "text": [
            "INFO:tensorflow:*** Num TPU Cores: 8\n"
          ],
          "name": "stderr"
        },
        {
          "output_type": "stream",
          "text": [
            "INFO:tensorflow:*** Num TPU Workers: 1\n"
          ],
          "name": "stdout"
        },
        {
          "output_type": "stream",
          "text": [
            "INFO:tensorflow:*** Num TPU Workers: 1\n"
          ],
          "name": "stderr"
        },
        {
          "output_type": "stream",
          "text": [
            "INFO:tensorflow:*** Num TPU Cores Per Worker: 8\n"
          ],
          "name": "stdout"
        },
        {
          "output_type": "stream",
          "text": [
            "INFO:tensorflow:*** Num TPU Cores Per Worker: 8\n"
          ],
          "name": "stderr"
        },
        {
          "output_type": "stream",
          "text": [
            "INFO:tensorflow:*** Available Device: _DeviceAttributes(/job:localhost/replica:0/task:0/device:CPU:0, CPU, 0, 0)\n"
          ],
          "name": "stdout"
        },
        {
          "output_type": "stream",
          "text": [
            "INFO:tensorflow:*** Available Device: _DeviceAttributes(/job:localhost/replica:0/task:0/device:CPU:0, CPU, 0, 0)\n"
          ],
          "name": "stderr"
        },
        {
          "output_type": "stream",
          "text": [
            "INFO:tensorflow:*** Available Device: _DeviceAttributes(/job:localhost/replica:0/task:0/device:XLA_CPU:0, XLA_CPU, 0, 0)\n"
          ],
          "name": "stdout"
        },
        {
          "output_type": "stream",
          "text": [
            "INFO:tensorflow:*** Available Device: _DeviceAttributes(/job:localhost/replica:0/task:0/device:XLA_CPU:0, XLA_CPU, 0, 0)\n"
          ],
          "name": "stderr"
        },
        {
          "output_type": "stream",
          "text": [
            "INFO:tensorflow:*** Available Device: _DeviceAttributes(/job:worker/replica:0/task:0/device:CPU:0, CPU, 0, 0)\n"
          ],
          "name": "stdout"
        },
        {
          "output_type": "stream",
          "text": [
            "INFO:tensorflow:*** Available Device: _DeviceAttributes(/job:worker/replica:0/task:0/device:CPU:0, CPU, 0, 0)\n"
          ],
          "name": "stderr"
        },
        {
          "output_type": "stream",
          "text": [
            "INFO:tensorflow:*** Available Device: _DeviceAttributes(/job:worker/replica:0/task:0/device:TPU:0, TPU, 0, 0)\n"
          ],
          "name": "stdout"
        },
        {
          "output_type": "stream",
          "text": [
            "INFO:tensorflow:*** Available Device: _DeviceAttributes(/job:worker/replica:0/task:0/device:TPU:0, TPU, 0, 0)\n"
          ],
          "name": "stderr"
        },
        {
          "output_type": "stream",
          "text": [
            "INFO:tensorflow:*** Available Device: _DeviceAttributes(/job:worker/replica:0/task:0/device:TPU:1, TPU, 0, 0)\n"
          ],
          "name": "stdout"
        },
        {
          "output_type": "stream",
          "text": [
            "INFO:tensorflow:*** Available Device: _DeviceAttributes(/job:worker/replica:0/task:0/device:TPU:1, TPU, 0, 0)\n"
          ],
          "name": "stderr"
        },
        {
          "output_type": "stream",
          "text": [
            "INFO:tensorflow:*** Available Device: _DeviceAttributes(/job:worker/replica:0/task:0/device:TPU:2, TPU, 0, 0)\n"
          ],
          "name": "stdout"
        },
        {
          "output_type": "stream",
          "text": [
            "INFO:tensorflow:*** Available Device: _DeviceAttributes(/job:worker/replica:0/task:0/device:TPU:2, TPU, 0, 0)\n"
          ],
          "name": "stderr"
        },
        {
          "output_type": "stream",
          "text": [
            "INFO:tensorflow:*** Available Device: _DeviceAttributes(/job:worker/replica:0/task:0/device:TPU:3, TPU, 0, 0)\n"
          ],
          "name": "stdout"
        },
        {
          "output_type": "stream",
          "text": [
            "INFO:tensorflow:*** Available Device: _DeviceAttributes(/job:worker/replica:0/task:0/device:TPU:3, TPU, 0, 0)\n"
          ],
          "name": "stderr"
        },
        {
          "output_type": "stream",
          "text": [
            "INFO:tensorflow:*** Available Device: _DeviceAttributes(/job:worker/replica:0/task:0/device:TPU:4, TPU, 0, 0)\n"
          ],
          "name": "stdout"
        },
        {
          "output_type": "stream",
          "text": [
            "INFO:tensorflow:*** Available Device: _DeviceAttributes(/job:worker/replica:0/task:0/device:TPU:4, TPU, 0, 0)\n"
          ],
          "name": "stderr"
        },
        {
          "output_type": "stream",
          "text": [
            "INFO:tensorflow:*** Available Device: _DeviceAttributes(/job:worker/replica:0/task:0/device:TPU:5, TPU, 0, 0)\n"
          ],
          "name": "stdout"
        },
        {
          "output_type": "stream",
          "text": [
            "INFO:tensorflow:*** Available Device: _DeviceAttributes(/job:worker/replica:0/task:0/device:TPU:5, TPU, 0, 0)\n"
          ],
          "name": "stderr"
        },
        {
          "output_type": "stream",
          "text": [
            "INFO:tensorflow:*** Available Device: _DeviceAttributes(/job:worker/replica:0/task:0/device:TPU:6, TPU, 0, 0)\n"
          ],
          "name": "stdout"
        },
        {
          "output_type": "stream",
          "text": [
            "INFO:tensorflow:*** Available Device: _DeviceAttributes(/job:worker/replica:0/task:0/device:TPU:6, TPU, 0, 0)\n"
          ],
          "name": "stderr"
        },
        {
          "output_type": "stream",
          "text": [
            "INFO:tensorflow:*** Available Device: _DeviceAttributes(/job:worker/replica:0/task:0/device:TPU:7, TPU, 0, 0)\n"
          ],
          "name": "stdout"
        },
        {
          "output_type": "stream",
          "text": [
            "INFO:tensorflow:*** Available Device: _DeviceAttributes(/job:worker/replica:0/task:0/device:TPU:7, TPU, 0, 0)\n"
          ],
          "name": "stderr"
        },
        {
          "output_type": "stream",
          "text": [
            "INFO:tensorflow:*** Available Device: _DeviceAttributes(/job:worker/replica:0/task:0/device:TPU_SYSTEM:0, TPU_SYSTEM, 0, 0)\n"
          ],
          "name": "stdout"
        },
        {
          "output_type": "stream",
          "text": [
            "INFO:tensorflow:*** Available Device: _DeviceAttributes(/job:worker/replica:0/task:0/device:TPU_SYSTEM:0, TPU_SYSTEM, 0, 0)\n"
          ],
          "name": "stderr"
        },
        {
          "output_type": "stream",
          "text": [
            "INFO:tensorflow:*** Available Device: _DeviceAttributes(/job:worker/replica:0/task:0/device:XLA_CPU:0, XLA_CPU, 0, 0)\n"
          ],
          "name": "stdout"
        },
        {
          "output_type": "stream",
          "text": [
            "INFO:tensorflow:*** Available Device: _DeviceAttributes(/job:worker/replica:0/task:0/device:XLA_CPU:0, XLA_CPU, 0, 0)\n"
          ],
          "name": "stderr"
        },
        {
          "output_type": "stream",
          "text": [
            "REPLICAS:  8\n"
          ],
          "name": "stdout"
        }
      ]
    },
    {
      "cell_type": "code",
      "metadata": {
        "_uuid": "d629ff2d2480ee46fbb7e2d37f6b5fab8052498a",
        "_cell_guid": "79c7e3d0-c299-4dcb-8224-4455121ee9b0",
        "trusted": true,
        "id": "-Pe7aE3YF_k6",
        "colab_type": "code",
        "colab": {}
      },
      "source": [
        "# For tf.dataset\n",
        "AUTO = tf.data.experimental.AUTOTUNE\n",
        "\n",
        "# Data access\n",
        "GCS_PATH = \"gs://kds-c0f584f88a8cdde1136ca711521457434b79af09b9027cba5008e09e\"\n",
        "\n",
        "folds=5\n",
        "\n",
        "# Configuration\n",
        "EPOCHS = 30\n",
        "\n",
        "BATCH_SIZE = 32 * strategy.num_replicas_in_sync\n",
        "\n",
        "IMAGE_SIZE = [512 , 512]\n",
        "# Seed\n",
        "SEED = 123\n",
        "# Learning rate\n",
        "LR = 0.0004\n",
        "# training filenames directory\n",
        "TRAINING_FILENAMES = tf.io.gfile.glob(GCS_PATH + '/train*.tfrec')\n",
        "# test filenames directory\n",
        "TEST_FILENAMES = tf.io.gfile.glob(GCS_PATH + '/test*.tfrec')\n",
        "# submission file\n",
        "#SUB = pd.read_csv(GCS_PATH+'/sample_submission.csv')"
      ],
      "execution_count": 4,
      "outputs": []
    },
    {
      "cell_type": "code",
      "metadata": {
        "trusted": true,
        "id": "vCCYkoO4F_lB",
        "colab_type": "code",
        "colab": {}
      },
      "source": [
        "def get_mat(rotation, shear, height_zoom, width_zoom, height_shift, width_shift):\n",
        "    # returns 3x3 transformmatrix which transforms indicies\n",
        "        \n",
        "    # CONVERT DEGREES TO RADIANS\n",
        "    rotation = math.pi * rotation / 180.\n",
        "    shear = math.pi * shear / 180.\n",
        "    \n",
        "    # ROTATION MATRIX\n",
        "    c1 = tf.math.cos(rotation)\n",
        "    s1 = tf.math.sin(rotation)\n",
        "    one = tf.constant([1],dtype='float32')\n",
        "    zero = tf.constant([0],dtype='float32')\n",
        "    rotation_matrix = tf.reshape( tf.concat([c1,s1,zero, -s1,c1,zero, zero,zero,one],axis=0),[3,3] )\n",
        "        \n",
        "    # SHEAR MATRIX\n",
        "    c2 = tf.math.cos(shear)\n",
        "    s2 = tf.math.sin(shear)\n",
        "    shear_matrix = tf.reshape( tf.concat([one,s2,zero, zero,c2,zero, zero,zero,one],axis=0),[3,3] )    \n",
        "    \n",
        "    # ZOOM MATRIX\n",
        "    zoom_matrix = tf.reshape( tf.concat([one/height_zoom,zero,zero, zero,one/width_zoom,zero, zero,zero,one],axis=0),[3,3] )\n",
        "    \n",
        "    # SHIFT MATRIX\n",
        "    shift_matrix = tf.reshape( tf.concat([one,zero,height_shift, zero,one,width_shift, zero,zero,one],axis=0),[3,3] )\n",
        "    \n",
        "    return K.dot(K.dot(rotation_matrix, shear_matrix), K.dot(zoom_matrix, shift_matrix))\n",
        "\n",
        "def transform(image, label):\n",
        "    # input image - is one image of size [dim,dim,3] not a batch of [b,dim,dim,3]\n",
        "    # output - image randomly rotated, sheared, zoomed, and shifted\n",
        "    DIM = IMAGE_SIZE[0]\n",
        "    XDIM = DIM%2 #fix for size 331\n",
        "    \n",
        "    tmp = random.uniform(0, 1)\n",
        "    if 0 < tmp <= 0.1:\n",
        "        rot = 15.0 * tf.random.normal([1],dtype='float32')\n",
        "    elif 0.1 < tmp <= 0.2:\n",
        "        rot = 30.0 * tf.random.normal([1],dtype='float32')\n",
        "    elif 0.2 < tmp <= 0.3:\n",
        "        rot = 45.0 * tf.random.normal([1],dtype='float32')\n",
        "    elif 0.3 < tmp <= 0.4:\n",
        "        rot = 60.0 * tf.random.normal([1],dtype='float32')\n",
        "    elif 0.4 < tmp <= 0.5:\n",
        "        rot = 75.0 * tf.random.normal([1],dtype='float32')\n",
        "    elif 0.5 < tmp <= 0.6:\n",
        "        rot = 90.0 * tf.random.normal([1],dtype='float32')\n",
        "    elif 0.6 < tmp <= 0.7:\n",
        "        rot = 110.0 * tf.random.normal([1],dtype='float32')\n",
        "    elif 0.7 < tmp <= 0.8:\n",
        "        rot = 130.0 * tf.random.normal([1],dtype='float32')\n",
        "    elif 0.8 < tmp <= 0.9:\n",
        "        rot = 150.0 * tf.random.normal([1],dtype='float32')\n",
        "    elif 0.9 < tmp <= 1.0:\n",
        "        rot = 180.0 * tf.random.normal([1],dtype='float32')\n",
        "    shr = 5. * tf.random.normal([1],dtype='float32') \n",
        "    h_zoom = 1.0 + tf.random.normal([1],dtype='float32')/10.\n",
        "    w_zoom = 1.0 + tf.random.normal([1],dtype='float32')/10.\n",
        "    h_shift = 16. * tf.random.normal([1],dtype='float32') \n",
        "    w_shift = 16. * tf.random.normal([1],dtype='float32') \n",
        "  \n",
        "    # GET TRANSFORMATION MATRIX\n",
        "    m = get_mat(rot,shr,h_zoom,w_zoom,h_shift,w_shift) \n",
        "\n",
        "    # LIST DESTINATION PIXEL INDICES\n",
        "    x = tf.repeat( tf.range(DIM//2,-DIM//2,-1), DIM )\n",
        "    y = tf.tile( tf.range(-DIM//2,DIM//2),[DIM] )\n",
        "    z = tf.ones([DIM*DIM],dtype='int32')\n",
        "    idx = tf.stack( [x,y,z] )\n",
        "    \n",
        "    # ROTATE DESTINATION PIXELS ONTO ORIGIN PIXELS\n",
        "    idx2 = K.dot(m,tf.cast(idx,dtype='float32'))\n",
        "    idx2 = K.cast(idx2,dtype='int32')\n",
        "    idx2 = K.clip(idx2,-DIM//2+XDIM+1,DIM//2)\n",
        "    \n",
        "    # FIND ORIGIN PIXEL VALUES           \n",
        "    idx3 = tf.stack( [DIM//2-idx2[0,], DIM//2-1+idx2[1,]] )\n",
        "    d = tf.gather_nd(image,tf.transpose(idx3))\n",
        "        \n",
        "    return tf.reshape(d,[DIM,DIM,3]), label"
      ],
      "execution_count": 5,
      "outputs": []
    },
    {
      "cell_type": "code",
      "metadata": {
        "trusted": true,
        "id": "5ptLO2eLF_lF",
        "colab_type": "code",
        "colab": {
          "base_uri": "https://localhost:8080/",
          "height": 68
        },
        "outputId": "5fb1d32e-687d-41db-ed17-036c8872eb2e"
      },
      "source": [
        "def decode_image(image_data):\n",
        "    image = tf.image.decode_jpeg(image_data, channels=3)\n",
        "    image = tf.cast(image, tf.bfloat16) / 255.0  # convert image to floats in [0, 1] range\n",
        "    image = tf.reshape(image, [*IMAGE_SIZE, 3]) # explicit size needed for TPU\n",
        "    return image\n",
        "\n",
        "def read_labeled_tfrecord(example):\n",
        "    LABELED_TFREC_FORMAT = {\n",
        "        \"image\": tf.io.FixedLenFeature([], tf.string), # tf.string means bytestring\n",
        "        \"target\": tf.io.FixedLenFeature([], tf.int64),  # shape [] means single element\n",
        "    }\n",
        "    example = tf.io.parse_single_example(example, LABELED_TFREC_FORMAT)\n",
        "    image = decode_image(example['image'])\n",
        "    label = tf.cast(example['target'], tf.int32)\n",
        "    return image, label # returns a dataset of (image, label) pairs\n",
        "\n",
        "def read_unlabeled_tfrecord(example):\n",
        "    UNLABELED_TFREC_FORMAT = {\n",
        "        \"image\": tf.io.FixedLenFeature([], tf.string), # tf.string means bytestring\n",
        "        \"image_name\": tf.io.FixedLenFeature([], tf.string),  # shape [] means single element\n",
        "        # class is missing, this competitions's challenge is to predict flower classes for the test dataset\n",
        "    }\n",
        "    example = tf.io.parse_single_example(example, UNLABELED_TFREC_FORMAT)\n",
        "    image = decode_image(example['image'])\n",
        "    idnum = example['image_name']\n",
        "    return image, idnum # returns a dataset of image(s)\n",
        "\n",
        "def load_dataset(filenames, labeled=True, ordered=False):\n",
        "    # Read from TFRecords. For optimal performance, reading from multiple files at once and\n",
        "    # disregarding data order. Order does not matter since we will be shuffling the data anyway.\n",
        "\n",
        "    ignore_order = tf.data.Options()\n",
        "    if not ordered:\n",
        "        ignore_order.experimental_deterministic = False # disable order, increase speed\n",
        "\n",
        "    dataset = tf.data.TFRecordDataset(filenames, num_parallel_reads=AUTO) # automatically interleaves reads from multiple files\n",
        "    dataset = dataset.with_options(ignore_order) # uses data as soon as it streams in, rather than in its original order\n",
        "    dataset = dataset.map(read_labeled_tfrecord if labeled else read_unlabeled_tfrecord, num_parallel_calls=AUTO)\n",
        "    # returns a dataset of (image, label) pairs if labeled=True or (image, id) pairs if labeled=False\n",
        "    return dataset\n",
        "\n",
        "def data_augment(image, label):\n",
        "    image = tf.image.random_flip_left_right(image)\n",
        "    image = tf.image.random_flip_up_down(image)\n",
        "    image = tf.image.random_hue(image,0.02)\n",
        "    image = tf.image.random_contrast(image,0.8,1.1)\n",
        "    image = tf.image.random_brightness(image,0.1)\n",
        "    image = tf.image.random_saturation(image, 0.7, 1.4)\n",
        "    return image, label  \n",
        "\n",
        "def get_training_dataset(TRAINING_FILENAMES):\n",
        "    dataset = load_dataset(TRAINING_FILENAMES, labeled=True)\n",
        "    dataset = dataset.map(data_augment, num_parallel_calls=AUTO)\n",
        "    dataset = dataset.map(transform, num_parallel_calls=AUTO)\n",
        "    dataset = dataset.repeat() # the training dataset must repeat for several epochs\n",
        "    dataset = dataset.shuffle(2048)\n",
        "    dataset = dataset.batch(BATCH_SIZE)\n",
        "    dataset = dataset.prefetch(AUTO) # prefetch next batch while training (autotune prefetch buffer size)\n",
        "    return dataset\n",
        "\n",
        "def get_validation_dataset(VALIDATION_FILENAMES):\n",
        "    dataset = load_dataset(VALIDATION_FILENAMES, labeled=True)\n",
        "    #dataset = dataset.map(data_augment, num_parallel_calls=AUTO)\n",
        "    dataset = dataset.repeat() # the training dataset must repeat for several epochs\n",
        "    dataset = dataset.batch(BATCH_SIZE)\n",
        "    dataset = dataset.prefetch(AUTO) # prefetch next batch while training (autotune prefetch buffer size)\n",
        "    return dataset\n",
        "\n",
        "def get_test_dataset(TEST_FILENAMES,ordered=False):\n",
        "    dataset = load_dataset(TEST_FILENAMES, labeled=False, ordered=ordered)\n",
        "    dataset = dataset.batch(BATCH_SIZE)\n",
        "    dataset = dataset.prefetch(AUTO) # prefetch next batch while training (autotune prefetch buffer size)\n",
        "    return dataset\n",
        "\n",
        "def read_tfrecord_full(example):\n",
        "    LABELED_TFREC_FORMAT = {\n",
        "        \"image\": tf.io.FixedLenFeature([], tf.string), \n",
        "        \"image_name\": tf.io.FixedLenFeature([], tf.string), \n",
        "        \"target\": tf.io.FixedLenFeature([], tf.int64)\n",
        "    }\n",
        "    example = tf.io.parse_single_example(example, LABELED_TFREC_FORMAT)\n",
        "    image = decode_image(example['image'])\n",
        "    image_name = example['image_name']\n",
        "    target = tf.cast(example['target'], tf.int32)\n",
        "\n",
        "    return image, image_name, target\n",
        "\n",
        "\n",
        "def load_dataset_full(filenames):        \n",
        "    # automatically interleaves reads from multiple files\n",
        "    dataset = tf.data.TFRecordDataset(filenames, num_parallel_reads = AUTO)\n",
        "    # returns a dataset of (image_name, target)\n",
        "    dataset = dataset.map(read_tfrecord_full, num_parallel_calls = AUTO) \n",
        "    return dataset\n",
        "\n",
        "def get_data_full(filenames):\n",
        "    dataset = load_dataset_full(filenames)\n",
        "    dataset = dataset.batch(BATCH_SIZE)\n",
        "    dataset = dataset.prefetch(AUTO)\n",
        "    return dataset\n",
        "\n",
        "def count_data_items(filenames):\n",
        "    # the number of data items is written in the name of the .tfrec files, i.e. flowers00-230.tfrec = 230 data items\n",
        "    n = [int(re.compile(r\"-([0-9]*)\\.\").search(filename).group(1)) for filename in filenames]\n",
        "    return np.sum(n)\n",
        "\n",
        "NUM_TRAINING_IMAGES = int(count_data_items(TRAINING_FILENAMES) * 0.8)\n",
        "NUM_VALIDATION_IMAGES = int(count_data_items(TRAINING_FILENAMES) * 0.2)\n",
        "NUM_TEST_IMAGES = count_data_items(TEST_FILENAMES)\n",
        "STEPS_PER_EPOCH = NUM_TRAINING_IMAGES // BATCH_SIZE\n",
        "VALIDATION_STEPS= NUM_VALIDATION_IMAGES // BATCH_SIZE\n",
        "print('Dataset: {} training images ,{} Validation images,{} unlabeled test images'.format(NUM_TRAINING_IMAGES,NUM_VALIDATION_IMAGES,NUM_TEST_IMAGES))\n",
        "print(\"STEPS_PER_EPOCH are {}\".format(STEPS_PER_EPOCH))\n",
        "print(\"VALIDATION_STEPS are {}\".format(VALIDATION_STEPS))"
      ],
      "execution_count": 6,
      "outputs": [
        {
          "output_type": "stream",
          "text": [
            "Dataset: 48389 training images ,12097 Validation images,10982 unlabeled test images\n",
            "STEPS_PER_EPOCH are 189\n",
            "VALIDATION_STEPS are 47\n"
          ],
          "name": "stdout"
        }
      ]
    },
    {
      "cell_type": "code",
      "metadata": {
        "trusted": true,
        "id": "ZM_9oaUfF_lK",
        "colab_type": "code",
        "colab": {}
      },
      "source": [
        "def binary_focal_loss(gamma=2., alpha=.25):\n",
        "    \"\"\"\n",
        "    Binary form of focal loss.\n",
        "      FL(p_t) = -alpha * (1 - p_t)**gamma * log(p_t)\n",
        "      where p = sigmoid(x), p_t = p or 1 - p depending on if the label is 1 or 0, respectively.\n",
        "    References:\n",
        "        https://arxiv.org/pdf/1708.02002.pdf\n",
        "    Usage:\n",
        "     model.compile(loss=[binary_focal_loss(alpha=.25, gamma=2)], metrics=[\"accuracy\"], optimizer=adam)\n",
        "    \"\"\"\n",
        "    def binary_focal_loss_fixed(y_true, y_pred):\n",
        "        \"\"\"\n",
        "        :param y_true: A tensor of the same shape as `y_pred`\n",
        "        :param y_pred:  A tensor resulting from a sigmoid\n",
        "        :return: Output tensor.\n",
        "        \"\"\"\n",
        "        pt_1 = tf.where(tf.equal(y_true, 1), y_pred, tf.ones_like(y_pred))\n",
        "        pt_0 = tf.where(tf.equal(y_true, 0), y_pred, tf.zeros_like(y_pred))\n",
        "\n",
        "        epsilon = K.epsilon()\n",
        "        # clip to prevent NaN's and Inf's\n",
        "        pt_1 = K.clip(pt_1, epsilon, 1. - epsilon)\n",
        "        pt_0 = K.clip(pt_0, epsilon, 1. - epsilon)\n",
        "\n",
        "        return -K.sum(alpha * K.pow(1. - pt_1, gamma) * K.log(pt_1)) \\\n",
        "               -K.sum((1 - alpha) * K.pow(pt_0, gamma) * K.log(1. - pt_0))\n",
        "\n",
        "    return binary_focal_loss_fixed"
      ],
      "execution_count": 7,
      "outputs": []
    },
    {
      "cell_type": "code",
      "metadata": {
        "trusted": true,
        "id": "3iSTY8JkF_lQ",
        "colab_type": "code",
        "colab": {}
      },
      "source": [
        "def create_model():\n",
        "    with strategy.scope():\n",
        "        inp1=Input(shape=(*IMAGE_SIZE,3))\n",
        "        eb6=tfn.EfficientNetB6(include_top=False,input_shape=(*IMAGE_SIZE,3),weights='imagenet')\n",
        "        eb6.trainable=False\n",
        "        x=eb6(inp1,training=False)\n",
        "        x=GlobalAveragePooling2D()(x)\n",
        "        x=Dense(512,activation='relu')(x)\n",
        "        x=BatchNormalization()(x)\n",
        "        x=Dropout(0.2)(x)\n",
        "        x=Dense(182,activation='relu')(x)\n",
        "        x=BatchNormalization()(x)\n",
        "        x=Dropout(0.2)(x)\n",
        "        Y=Dense(1,activation='sigmoid')(x)\n",
        "        model=Model(inp1,Y)\n",
        "        model.compile(optimizer=optimizers.Adam(lr=LR),\n",
        "                      loss=[binary_focal_loss(gamma=2., alpha=.8)],\n",
        "                      metrics=[metrics.BinaryAccuracy(),metrics.AUC()]\n",
        "                     )\n",
        "        return model"
      ],
      "execution_count": 8,
      "outputs": []
    },
    {
      "cell_type": "code",
      "metadata": {
        "trusted": true,
        "id": "U8JtSB3iF_lU",
        "colab_type": "code",
        "colab": {}
      },
      "source": [
        "def get_cb():\n",
        "    return [\n",
        "        tf.keras.callbacks.ReduceLROnPlateau(monitor = 'val_auc', \n",
        "                                             factor = 0.4, patience = 2, verbose = 1,\n",
        "                                             min_delta = 0.0001, mode = 'max'),\n",
        "        tf.keras.callbacks.EarlyStopping(monitor = 'val_auc', mode = 'ma  x', patience = 4, \n",
        "                                        verbose = 1, min_delta = 0.0001, restore_best_weights = True)\n",
        "    ]"
      ],
      "execution_count": 9,
      "outputs": []
    },
    {
      "cell_type": "code",
      "metadata": {
        "trusted": true,
        "id": "gshr5H19F_lZ",
        "colab_type": "code",
        "colab": {}
      },
      "source": [
        "import matplotlib.pyplot as plt\n",
        "def display_training_curves(training, validation, title, subplot):\n",
        "    \"\"\"\n",
        "    Source: https://www.kaggle.com/mgornergoogle/getting-started-with-100-flowers-on-tpu\n",
        "    \"\"\"\n",
        "    if subplot%10==1: # set up the subplots on the first call\n",
        "        plt.subplots(figsize=(10,10), facecolor='#F0F0F0')\n",
        "        plt.tight_layout()\n",
        "    ax = plt.subplot(subplot)\n",
        "    ax.set_facecolor('#F8F8F8')\n",
        "    ax.plot(training)\n",
        "    ax.plot(validation)\n",
        "    ax.set_title('model '+ title)\n",
        "    ax.set_ylabel(title)\n",
        "    #ax.set_ylim(0.28,1.05)\n",
        "    ax.set_xlabel('epoch')\n",
        "    ax.legend(['train', 'valid.'])"
      ],
      "execution_count": 10,
      "outputs": []
    },
    {
      "cell_type": "code",
      "metadata": {
        "trusted": true,
        "id": "lr19DLJ5F_ld",
        "colab_type": "code",
        "colab": {
          "base_uri": "https://localhost:8080/",
          "height": 1000
        },
        "outputId": "d30ed9af-62e4-416d-bd37-58cf640026fd"
      },
      "source": [
        "models=[]\n",
        "oof_image_name = []\n",
        "oof_target = []\n",
        "oof_prediction = []\n",
        "kfold = KFold(5, shuffle = True, random_state = SEED)\n",
        "for fold, (trn_ind, val_ind) in enumerate(kfold.split(TRAINING_FILENAMES)):\n",
        "    print(\"\\n\")\n",
        "    print('_'*50)\n",
        "    print(f'Training fold {fold + 1}')\n",
        "    train_dataset = get_training_dataset([TRAINING_FILENAMES[x] for x in trn_ind])\n",
        "    val_dataset = get_validation_dataset([TRAINING_FILENAMES[x] for x in val_ind])\n",
        "    K.clear_session()\n",
        "    model=create_model()\n",
        "    history=model.fit(train_dataset,\n",
        "              epochs=EPOCHS,\n",
        "              steps_per_epoch=STEPS_PER_EPOCH,\n",
        "              validation_data=val_dataset,\n",
        "              validation_steps=VALIDATION_STEPS,\n",
        "              callbacks=get_cb()\n",
        "             )\n",
        "    models.append(model)\n",
        " # want to predict the validation set and save them for stacking\n",
        "    number_of_files = count_data_items([TRAINING_FILENAMES[x] for x in val_ind])\n",
        "    dataset = get_data_full([TRAINING_FILENAMES[x] for x in val_ind])\n",
        "        # get the image name\n",
        "    image_name = dataset.map(lambda image, image_name, target: image_name).unbatch()\n",
        "    image_name = next(iter(image_name.batch(number_of_files))).numpy().astype('U')\n",
        "        # get the real target\n",
        "    target = dataset.map(lambda image, image_name, target: target).unbatch()\n",
        "    target = next(iter(target.batch(number_of_files))).numpy()\n",
        "        # predict the validation set\n",
        "    image = dataset.map(lambda image, image_name, target: image)\n",
        "    probabilities = model.predict(image)\n",
        "    oof_image_name.extend(list(image_name))\n",
        "    oof_target.extend(list(target))\n",
        "    oof_prediction.extend(list(np.concatenate(probabilities)))"
      ],
      "execution_count": 11,
      "outputs": [
        {
          "output_type": "stream",
          "text": [
            "\n",
            "\n",
            "__________________________________________________\n",
            "Training fold 1\n",
            "Downloading data from https://github.com/Callidior/keras-applications/releases/download/efficientnet/efficientnet-b6_weights_tf_dim_ordering_tf_kernels_autoaugment_notop.h5\n",
            "165527552/165527152 [==============================] - 2s 0us/step\n",
            "Epoch 1/30\n",
            "189/189 [==============================] - 188s 996ms/step - binary_accuracy: 0.7062 - auc: 0.7325 - loss: 1.7743 - val_binary_accuracy: 0.9156 - val_auc: 0.8498 - val_loss: 0.9806 - lr: 4.0000e-04\n",
            "Epoch 2/30\n",
            "189/189 [==============================] - 159s 842ms/step - binary_accuracy: 0.8094 - auc: 0.7941 - loss: 1.1986 - val_binary_accuracy: 0.8812 - val_auc: 0.8675 - val_loss: 0.8436 - lr: 4.0000e-04\n",
            "Epoch 3/30\n",
            "189/189 [==============================] - 157s 829ms/step - binary_accuracy: 0.8328 - auc: 0.8242 - loss: 1.0509 - val_binary_accuracy: 0.8398 - val_auc: 0.8754 - val_loss: 0.8427 - lr: 4.0000e-04\n",
            "Epoch 4/30\n",
            "189/189 [==============================] - 152s 804ms/step - binary_accuracy: 0.8414 - auc: 0.8377 - loss: 0.9842 - val_binary_accuracy: 0.8815 - val_auc: 0.8718 - val_loss: 0.8690 - lr: 4.0000e-04\n",
            "Epoch 5/30\n",
            "189/189 [==============================] - 147s 778ms/step - binary_accuracy: 0.8486 - auc: 0.8487 - loss: 0.9280 - val_binary_accuracy: 0.8947 - val_auc: 0.8828 - val_loss: 0.8056 - lr: 4.0000e-04\n",
            "Epoch 6/30\n",
            "189/189 [==============================] - 136s 718ms/step - binary_accuracy: 0.8566 - auc: 0.8585 - loss: 0.8836 - val_binary_accuracy: 0.8855 - val_auc: 0.8808 - val_loss: 0.8029 - lr: 4.0000e-04\n",
            "Epoch 7/30\n",
            "189/189 [==============================] - 147s 777ms/step - binary_accuracy: 0.8630 - auc: 0.8655 - loss: 0.8566 - val_binary_accuracy: 0.8942 - val_auc: 0.8830 - val_loss: 0.8022 - lr: 4.0000e-04\n",
            "Epoch 8/30\n",
            "189/189 [==============================] - 141s 744ms/step - binary_accuracy: 0.8682 - auc: 0.8739 - loss: 0.8315 - val_binary_accuracy: 0.8792 - val_auc: 0.8885 - val_loss: 0.7786 - lr: 4.0000e-04\n",
            "Epoch 9/30\n",
            "189/189 [==============================] - 135s 716ms/step - binary_accuracy: 0.8702 - auc: 0.8767 - loss: 0.8186 - val_binary_accuracy: 0.8957 - val_auc: 0.8874 - val_loss: 0.7925 - lr: 4.0000e-04\n",
            "Epoch 10/30\n",
            "189/189 [==============================] - ETA: 0s - binary_accuracy: 0.8748 - auc: 0.8807 - loss: 0.8029\n",
            "Epoch 00010: ReduceLROnPlateau reducing learning rate to 0.00015999999595806003.\n",
            "189/189 [==============================] - 146s 775ms/step - binary_accuracy: 0.8748 - auc: 0.8807 - loss: 0.8029 - val_binary_accuracy: 0.8533 - val_auc: 0.8845 - val_loss: 0.8134 - lr: 4.0000e-04\n",
            "Epoch 11/30\n",
            "189/189 [==============================] - 139s 737ms/step - binary_accuracy: 0.8784 - auc: 0.8851 - loss: 0.7913 - val_binary_accuracy: 0.8726 - val_auc: 0.8940 - val_loss: 0.7731 - lr: 1.6000e-04\n",
            "Epoch 12/30\n",
            "189/189 [==============================] - 139s 733ms/step - binary_accuracy: 0.8833 - auc: 0.8935 - loss: 0.7628 - val_binary_accuracy: 0.8903 - val_auc: 0.8985 - val_loss: 0.7518 - lr: 1.6000e-04\n",
            "Epoch 13/30\n",
            "189/189 [==============================] - 137s 725ms/step - binary_accuracy: 0.8842 - auc: 0.8933 - loss: 0.7636 - val_binary_accuracy: 0.8887 - val_auc: 0.8974 - val_loss: 0.7565 - lr: 1.6000e-04\n",
            "Epoch 14/30\n",
            "189/189 [==============================] - 144s 762ms/step - binary_accuracy: 0.8835 - auc: 0.8968 - loss: 0.7549 - val_binary_accuracy: 0.8930 - val_auc: 0.9005 - val_loss: 0.7480 - lr: 1.6000e-04\n",
            "Epoch 15/30\n",
            "189/189 [==============================] - 141s 744ms/step - binary_accuracy: 0.8855 - auc: 0.8966 - loss: 0.7531 - val_binary_accuracy: 0.8860 - val_auc: 0.8985 - val_loss: 0.7615 - lr: 1.6000e-04\n",
            "Epoch 16/30\n",
            "189/189 [==============================] - 140s 739ms/step - binary_accuracy: 0.8831 - auc: 0.8969 - loss: 0.7533 - val_binary_accuracy: 0.8894 - val_auc: 0.9014 - val_loss: 0.7475 - lr: 1.6000e-04\n",
            "Epoch 17/30\n",
            "189/189 [==============================] - 138s 731ms/step - binary_accuracy: 0.8870 - auc: 0.8994 - loss: 0.7466 - val_binary_accuracy: 0.8919 - val_auc: 0.9023 - val_loss: 0.7432 - lr: 1.6000e-04\n",
            "Epoch 18/30\n",
            "189/189 [==============================] - 149s 790ms/step - binary_accuracy: 0.8877 - auc: 0.9040 - loss: 0.7276 - val_binary_accuracy: 0.8839 - val_auc: 0.9027 - val_loss: 0.7433 - lr: 1.6000e-04\n",
            "Epoch 19/30\n",
            "189/189 [==============================] - 134s 711ms/step - binary_accuracy: 0.8890 - auc: 0.9058 - loss: 0.7226 - val_binary_accuracy: 0.8644 - val_auc: 0.9041 - val_loss: 0.7500 - lr: 1.6000e-04\n",
            "Epoch 20/30\n",
            "189/189 [==============================] - 145s 766ms/step - binary_accuracy: 0.8905 - auc: 0.9047 - loss: 0.7277 - val_binary_accuracy: 0.9013 - val_auc: 0.9064 - val_loss: 0.7267 - lr: 1.6000e-04\n",
            "Epoch 21/30\n",
            "189/189 [==============================] - 135s 713ms/step - binary_accuracy: 0.8891 - auc: 0.9060 - loss: 0.7206 - val_binary_accuracy: 0.8934 - val_auc: 0.9053 - val_loss: 0.7286 - lr: 1.6000e-04\n",
            "Epoch 22/30\n",
            "189/189 [==============================] - ETA: 0s - binary_accuracy: 0.8901 - auc: 0.9066 - loss: 0.7234\n",
            "Epoch 00022: ReduceLROnPlateau reducing learning rate to 6.399999838322402e-05.\n",
            "189/189 [==============================] - 143s 757ms/step - binary_accuracy: 0.8901 - auc: 0.9066 - loss: 0.7234 - val_binary_accuracy: 0.8890 - val_auc: 0.9032 - val_loss: 0.7407 - lr: 1.6000e-04\n",
            "Epoch 23/30\n",
            "189/189 [==============================] - 146s 770ms/step - binary_accuracy: 0.8938 - auc: 0.9095 - loss: 0.7118 - val_binary_accuracy: 0.8920 - val_auc: 0.9041 - val_loss: 0.7328 - lr: 6.4000e-05\n",
            "Epoch 24/30\n",
            "189/189 [==============================] - 138s 729ms/step - binary_accuracy: 0.8955 - auc: 0.9142 - loss: 0.6905 - val_binary_accuracy: 0.8904 - val_auc: 0.9065 - val_loss: 0.7251 - lr: 6.4000e-05\n",
            "Epoch 25/30\n",
            "189/189 [==============================] - 142s 752ms/step - binary_accuracy: 0.8954 - auc: 0.9152 - loss: 0.6871 - val_binary_accuracy: 0.8875 - val_auc: 0.9072 - val_loss: 0.7232 - lr: 6.4000e-05\n",
            "Epoch 26/30\n",
            "189/189 [==============================] - 139s 734ms/step - binary_accuracy: 0.8985 - auc: 0.9161 - loss: 0.6871 - val_binary_accuracy: 0.8939 - val_auc: 0.9073 - val_loss: 0.7215 - lr: 6.4000e-05\n",
            "Epoch 27/30\n",
            "189/189 [==============================] - 150s 795ms/step - binary_accuracy: 0.8970 - auc: 0.9171 - loss: 0.6850 - val_binary_accuracy: 0.9050 - val_auc: 0.9083 - val_loss: 0.7250 - lr: 6.4000e-05\n",
            "Epoch 28/30\n",
            "189/189 [==============================] - 134s 709ms/step - binary_accuracy: 0.8969 - auc: 0.9175 - loss: 0.6812 - val_binary_accuracy: 0.8979 - val_auc: 0.9075 - val_loss: 0.7229 - lr: 6.4000e-05\n",
            "Epoch 29/30\n",
            "189/189 [==============================] - ETA: 0s - binary_accuracy: 0.8971 - auc: 0.9183 - loss: 0.6754\n",
            "Epoch 00029: ReduceLROnPlateau reducing learning rate to 2.5599999935366215e-05.\n",
            "189/189 [==============================] - 139s 734ms/step - binary_accuracy: 0.8971 - auc: 0.9183 - loss: 0.6754 - val_binary_accuracy: 0.8932 - val_auc: 0.9060 - val_loss: 0.7291 - lr: 6.4000e-05\n",
            "Epoch 30/30\n",
            "189/189 [==============================] - 147s 777ms/step - binary_accuracy: 0.9004 - auc: 0.9218 - loss: 0.6663 - val_binary_accuracy: 0.9047 - val_auc: 0.9092 - val_loss: 0.7238 - lr: 2.5600e-05\n",
            "\n",
            "\n",
            "__________________________________________________\n",
            "Training fold 2\n",
            "Epoch 1/30\n",
            "189/189 [==============================] - 186s 982ms/step - binary_accuracy: 0.7069 - auc: 0.7292 - loss: 1.7563 - val_binary_accuracy: 0.8882 - val_auc: 0.8253 - val_loss: 0.9440 - lr: 4.0000e-04\n",
            "Epoch 2/30\n",
            "189/189 [==============================] - 163s 864ms/step - binary_accuracy: 0.8106 - auc: 0.7996 - loss: 1.1856 - val_binary_accuracy: 0.8702 - val_auc: 0.8749 - val_loss: 0.8173 - lr: 4.0000e-04\n",
            "Epoch 3/30\n",
            "189/189 [==============================] - 156s 823ms/step - binary_accuracy: 0.8343 - auc: 0.8262 - loss: 1.0459 - val_binary_accuracy: 0.8915 - val_auc: 0.8786 - val_loss: 0.8249 - lr: 4.0000e-04\n",
            "Epoch 4/30\n",
            "189/189 [==============================] - 163s 862ms/step - binary_accuracy: 0.8436 - auc: 0.8430 - loss: 0.9622 - val_binary_accuracy: 0.8403 - val_auc: 0.8806 - val_loss: 0.8178 - lr: 4.0000e-04\n",
            "Epoch 5/30\n",
            "189/189 [==============================] - 149s 790ms/step - binary_accuracy: 0.8510 - auc: 0.8511 - loss: 0.9216 - val_binary_accuracy: 0.8372 - val_auc: 0.8821 - val_loss: 0.8170 - lr: 4.0000e-04\n",
            "Epoch 6/30\n",
            "189/189 [==============================] - 146s 774ms/step - binary_accuracy: 0.8584 - auc: 0.8585 - loss: 0.8864 - val_binary_accuracy: 0.8172 - val_auc: 0.8872 - val_loss: 0.8293 - lr: 4.0000e-04\n",
            "Epoch 7/30\n",
            "189/189 [==============================] - 133s 704ms/step - binary_accuracy: 0.8602 - auc: 0.8643 - loss: 0.8646 - val_binary_accuracy: 0.8453 - val_auc: 0.8845 - val_loss: 0.8185 - lr: 4.0000e-04\n",
            "Epoch 8/30\n",
            "189/189 [==============================] - ETA: 0s - binary_accuracy: 0.8688 - auc: 0.8733 - loss: 0.8342\n",
            "Epoch 00008: ReduceLROnPlateau reducing learning rate to 0.00015999999595806003.\n",
            "189/189 [==============================] - 135s 715ms/step - binary_accuracy: 0.8688 - auc: 0.8733 - loss: 0.8342 - val_binary_accuracy: 0.8425 - val_auc: 0.8871 - val_loss: 0.8051 - lr: 4.0000e-04\n",
            "Epoch 9/30\n",
            "189/189 [==============================] - 154s 817ms/step - binary_accuracy: 0.8761 - auc: 0.8847 - loss: 0.7959 - val_binary_accuracy: 0.8625 - val_auc: 0.8975 - val_loss: 0.7616 - lr: 1.6000e-04\n",
            "Epoch 10/30\n",
            "189/189 [==============================] - 137s 725ms/step - binary_accuracy: 0.8762 - auc: 0.8863 - loss: 0.7903 - val_binary_accuracy: 0.8816 - val_auc: 0.8993 - val_loss: 0.7414 - lr: 1.6000e-04\n",
            "Epoch 11/30\n",
            "189/189 [==============================] - 132s 699ms/step - binary_accuracy: 0.8762 - auc: 0.8867 - loss: 0.7900 - val_binary_accuracy: 0.8782 - val_auc: 0.9005 - val_loss: 0.7426 - lr: 1.6000e-04\n",
            "Epoch 12/30\n",
            "189/189 [==============================] - 150s 791ms/step - binary_accuracy: 0.8792 - auc: 0.8939 - loss: 0.7677 - val_binary_accuracy: 0.8732 - val_auc: 0.9021 - val_loss: 0.7481 - lr: 1.6000e-04\n",
            "Epoch 13/30\n",
            "189/189 [==============================] - 138s 732ms/step - binary_accuracy: 0.8799 - auc: 0.8928 - loss: 0.7680 - val_binary_accuracy: 0.8652 - val_auc: 0.9026 - val_loss: 0.7450 - lr: 1.6000e-04\n",
            "Epoch 14/30\n",
            "189/189 [==============================] - 131s 695ms/step - binary_accuracy: 0.8829 - auc: 0.8958 - loss: 0.7603 - val_binary_accuracy: 0.8684 - val_auc: 0.8967 - val_loss: 0.7552 - lr: 1.6000e-04\n",
            "Epoch 15/30\n",
            "189/189 [==============================] - ETA: 0s - binary_accuracy: 0.8838 - auc: 0.8964 - loss: 0.7581\n",
            "Epoch 00015: ReduceLROnPlateau reducing learning rate to 6.399999838322402e-05.\n",
            "189/189 [==============================] - 149s 789ms/step - binary_accuracy: 0.8838 - auc: 0.8964 - loss: 0.7581 - val_binary_accuracy: 0.8669 - val_auc: 0.8995 - val_loss: 0.7485 - lr: 1.6000e-04\n",
            "Epoch 16/30\n",
            "189/189 [==============================] - 137s 727ms/step - binary_accuracy: 0.8830 - auc: 0.8989 - loss: 0.7503 - val_binary_accuracy: 0.8938 - val_auc: 0.9051 - val_loss: 0.7205 - lr: 6.4000e-05\n",
            "Epoch 17/30\n",
            "189/189 [==============================] - 143s 755ms/step - binary_accuracy: 0.8872 - auc: 0.9041 - loss: 0.7330 - val_binary_accuracy: 0.8826 - val_auc: 0.9064 - val_loss: 0.7184 - lr: 6.4000e-05\n",
            "Epoch 18/30\n",
            "189/189 [==============================] - 144s 764ms/step - binary_accuracy: 0.8876 - auc: 0.9036 - loss: 0.7319 - val_binary_accuracy: 0.8855 - val_auc: 0.9028 - val_loss: 0.7332 - lr: 6.4000e-05\n",
            "Epoch 19/30\n",
            "189/189 [==============================] - ETA: 0s - binary_accuracy: 0.8889 - auc: 0.9074 - loss: 0.7223\n",
            "Epoch 00019: ReduceLROnPlateau reducing learning rate to 2.5599999935366215e-05.\n",
            "189/189 [==============================] - 128s 680ms/step - binary_accuracy: 0.8889 - auc: 0.9074 - loss: 0.7223 - val_binary_accuracy: 0.8894 - val_auc: 0.9055 - val_loss: 0.7172 - lr: 6.4000e-05\n",
            "Epoch 20/30\n",
            "189/189 [==============================] - 145s 768ms/step - binary_accuracy: 0.8909 - auc: 0.9064 - loss: 0.7225 - val_binary_accuracy: 0.8961 - val_auc: 0.9074 - val_loss: 0.7076 - lr: 2.5600e-05\n",
            "Epoch 21/30\n",
            "189/189 [==============================] - 149s 788ms/step - binary_accuracy: 0.8913 - auc: 0.9059 - loss: 0.7256 - val_binary_accuracy: 0.8966 - val_auc: 0.9052 - val_loss: 0.7232 - lr: 2.5600e-05\n",
            "Epoch 22/30\n",
            "189/189 [==============================] - ETA: 0s - binary_accuracy: 0.8917 - auc: 0.9085 - loss: 0.7158\n",
            "Epoch 00022: ReduceLROnPlateau reducing learning rate to 1.0240000119665639e-05.\n",
            "189/189 [==============================] - 140s 738ms/step - binary_accuracy: 0.8917 - auc: 0.9085 - loss: 0.7158 - val_binary_accuracy: 0.8971 - val_auc: 0.9041 - val_loss: 0.7234 - lr: 2.5600e-05\n",
            "Epoch 23/30\n",
            "189/189 [==============================] - 156s 824ms/step - binary_accuracy: 0.8888 - auc: 0.9086 - loss: 0.7155 - val_binary_accuracy: 0.8995 - val_auc: 0.9055 - val_loss: 0.7214 - lr: 1.0240e-05\n",
            "Epoch 24/30\n",
            "189/189 [==============================] - ETA: 0s - binary_accuracy: 0.8899 - auc: 0.9093 - loss: 0.7149\n",
            "Epoch 00024: ReduceLROnPlateau reducing learning rate to 4.095999975106679e-06.\n",
            "Restoring model weights from the end of the best epoch.\n",
            "189/189 [==============================] - 139s 736ms/step - binary_accuracy: 0.8899 - auc: 0.9093 - loss: 0.7149 - val_binary_accuracy: 0.8984 - val_auc: 0.9040 - val_loss: 0.7228 - lr: 1.0240e-05\n",
            "Epoch 00024: early stopping\n",
            "\n",
            "\n",
            "__________________________________________________\n",
            "Training fold 3\n",
            "Epoch 1/30\n",
            "189/189 [==============================] - 181s 956ms/step - binary_accuracy: 0.7057 - auc: 0.7270 - loss: 1.7385 - val_binary_accuracy: 0.9124 - val_auc: 0.8630 - val_loss: 1.1844 - lr: 4.0000e-04\n",
            "Epoch 2/30\n",
            "189/189 [==============================] - 161s 853ms/step - binary_accuracy: 0.8128 - auc: 0.8007 - loss: 1.1568 - val_binary_accuracy: 0.8767 - val_auc: 0.8722 - val_loss: 0.8451 - lr: 4.0000e-04\n",
            "Epoch 3/30\n",
            "189/189 [==============================] - 160s 847ms/step - binary_accuracy: 0.8351 - auc: 0.8234 - loss: 1.0367 - val_binary_accuracy: 0.8330 - val_auc: 0.8851 - val_loss: 0.8389 - lr: 4.0000e-04\n",
            "Epoch 4/30\n",
            "189/189 [==============================] - 163s 862ms/step - binary_accuracy: 0.8447 - auc: 0.8350 - loss: 0.9730 - val_binary_accuracy: 0.8981 - val_auc: 0.8892 - val_loss: 0.8033 - lr: 4.0000e-04\n",
            "Epoch 5/30\n",
            "189/189 [==============================] - 148s 784ms/step - binary_accuracy: 0.8542 - auc: 0.8504 - loss: 0.9152 - val_binary_accuracy: 0.8621 - val_auc: 0.8903 - val_loss: 0.7962 - lr: 4.0000e-04\n",
            "Epoch 6/30\n",
            "189/189 [==============================] - 153s 807ms/step - binary_accuracy: 0.8598 - auc: 0.8572 - loss: 0.8871 - val_binary_accuracy: 0.8616 - val_auc: 0.8906 - val_loss: 0.7924 - lr: 4.0000e-04\n",
            "Epoch 7/30\n",
            "189/189 [==============================] - 143s 756ms/step - binary_accuracy: 0.8649 - auc: 0.8646 - loss: 0.8539 - val_binary_accuracy: 0.8517 - val_auc: 0.8960 - val_loss: 0.8026 - lr: 4.0000e-04\n",
            "Epoch 8/30\n",
            "189/189 [==============================] - 126s 669ms/step - binary_accuracy: 0.8693 - auc: 0.8736 - loss: 0.8284 - val_binary_accuracy: 0.7739 - val_auc: 0.8869 - val_loss: 0.9079 - lr: 4.0000e-04\n",
            "Epoch 9/30\n",
            "189/189 [==============================] - 148s 784ms/step - binary_accuracy: 0.8741 - auc: 0.8779 - loss: 0.8088 - val_binary_accuracy: 0.8808 - val_auc: 0.8968 - val_loss: 0.7649 - lr: 4.0000e-04\n",
            "Epoch 10/30\n",
            "189/189 [==============================] - 137s 726ms/step - binary_accuracy: 0.8760 - auc: 0.8817 - loss: 0.7998 - val_binary_accuracy: 0.8103 - val_auc: 0.8917 - val_loss: 0.8543 - lr: 4.0000e-04\n",
            "Epoch 11/30\n",
            "189/189 [==============================] - ETA: 0s - binary_accuracy: 0.8790 - auc: 0.8848 - loss: 0.7864\n",
            "Epoch 00011: ReduceLROnPlateau reducing learning rate to 0.00015999999595806003.\n",
            "189/189 [==============================] - 134s 710ms/step - binary_accuracy: 0.8790 - auc: 0.8848 - loss: 0.7864 - val_binary_accuracy: 0.8462 - val_auc: 0.8947 - val_loss: 0.7918 - lr: 4.0000e-04\n",
            "Epoch 12/30\n",
            "189/189 [==============================] - 160s 847ms/step - binary_accuracy: 0.8836 - auc: 0.8940 - loss: 0.7609 - val_binary_accuracy: 0.8708 - val_auc: 0.9016 - val_loss: 0.7685 - lr: 1.6000e-04\n",
            "Epoch 13/30\n",
            "189/189 [==============================] - 132s 698ms/step - binary_accuracy: 0.8842 - auc: 0.8958 - loss: 0.7555 - val_binary_accuracy: 0.8711 - val_auc: 0.9035 - val_loss: 0.7531 - lr: 1.6000e-04\n",
            "Epoch 14/30\n",
            "189/189 [==============================] - 161s 852ms/step - binary_accuracy: 0.8854 - auc: 0.8951 - loss: 0.7573 - val_binary_accuracy: 0.8871 - val_auc: 0.9046 - val_loss: 0.7423 - lr: 1.6000e-04\n",
            "Epoch 15/30\n",
            "189/189 [==============================] - 139s 735ms/step - binary_accuracy: 0.8877 - auc: 0.8978 - loss: 0.7462 - val_binary_accuracy: 0.8843 - val_auc: 0.9030 - val_loss: 0.7491 - lr: 1.6000e-04\n",
            "Epoch 16/30\n",
            "189/189 [==============================] - 142s 750ms/step - binary_accuracy: 0.8881 - auc: 0.8990 - loss: 0.7450 - val_binary_accuracy: 0.8622 - val_auc: 0.9058 - val_loss: 0.7515 - lr: 1.6000e-04\n",
            "Epoch 17/30\n",
            "189/189 [==============================] - 147s 778ms/step - binary_accuracy: 0.8895 - auc: 0.8998 - loss: 0.7439 - val_binary_accuracy: 0.8749 - val_auc: 0.9048 - val_loss: 0.7429 - lr: 1.6000e-04\n",
            "Epoch 18/30\n",
            "189/189 [==============================] - 139s 735ms/step - binary_accuracy: 0.8888 - auc: 0.9029 - loss: 0.7305 - val_binary_accuracy: 0.8743 - val_auc: 0.9077 - val_loss: 0.7373 - lr: 1.6000e-04\n",
            "Epoch 19/30\n",
            "189/189 [==============================] - 153s 812ms/step - binary_accuracy: 0.8909 - auc: 0.9047 - loss: 0.7241 - val_binary_accuracy: 0.8698 - val_auc: 0.9019 - val_loss: 0.7553 - lr: 1.6000e-04\n",
            "Epoch 20/30\n",
            "189/189 [==============================] - ETA: 0s - binary_accuracy: 0.8899 - auc: 0.9059 - loss: 0.7208\n",
            "Epoch 00020: ReduceLROnPlateau reducing learning rate to 6.399999838322402e-05.\n",
            "189/189 [==============================] - 139s 738ms/step - binary_accuracy: 0.8899 - auc: 0.9059 - loss: 0.7208 - val_binary_accuracy: 0.8653 - val_auc: 0.9027 - val_loss: 0.7579 - lr: 1.6000e-04\n",
            "Epoch 21/30\n",
            "189/189 [==============================] - 149s 790ms/step - binary_accuracy: 0.8915 - auc: 0.9061 - loss: 0.7201 - val_binary_accuracy: 0.8864 - val_auc: 0.9059 - val_loss: 0.7397 - lr: 6.4000e-05\n",
            "Epoch 22/30\n",
            "189/189 [==============================] - 141s 747ms/step - binary_accuracy: 0.8960 - auc: 0.9102 - loss: 0.7079 - val_binary_accuracy: 0.8953 - val_auc: 0.9092 - val_loss: 0.7250 - lr: 6.4000e-05\n",
            "Epoch 23/30\n",
            "189/189 [==============================] - 143s 754ms/step - binary_accuracy: 0.8940 - auc: 0.9107 - loss: 0.7043 - val_binary_accuracy: 0.8931 - val_auc: 0.9089 - val_loss: 0.7262 - lr: 6.4000e-05\n",
            "Epoch 24/30\n",
            "189/189 [==============================] - ETA: 0s - binary_accuracy: 0.8940 - auc: 0.9138 - loss: 0.6925\n",
            "Epoch 00024: ReduceLROnPlateau reducing learning rate to 2.5599999935366215e-05.\n",
            "189/189 [==============================] - 148s 786ms/step - binary_accuracy: 0.8940 - auc: 0.9138 - loss: 0.6925 - val_binary_accuracy: 0.8992 - val_auc: 0.9082 - val_loss: 0.7261 - lr: 6.4000e-05\n",
            "Epoch 25/30\n",
            "189/189 [==============================] - 139s 736ms/step - binary_accuracy: 0.8975 - auc: 0.9143 - loss: 0.6937 - val_binary_accuracy: 0.9006 - val_auc: 0.9112 - val_loss: 0.7189 - lr: 2.5600e-05\n",
            "Epoch 26/30\n",
            "189/189 [==============================] - 150s 796ms/step - binary_accuracy: 0.8996 - auc: 0.9190 - loss: 0.6756 - val_binary_accuracy: 0.8997 - val_auc: 0.9103 - val_loss: 0.7223 - lr: 2.5600e-05\n",
            "Epoch 27/30\n",
            "189/189 [==============================] - ETA: 0s - binary_accuracy: 0.8984 - auc: 0.9153 - loss: 0.6884\n",
            "Epoch 00027: ReduceLROnPlateau reducing learning rate to 1.0240000119665639e-05.\n",
            "189/189 [==============================] - 136s 717ms/step - binary_accuracy: 0.8984 - auc: 0.9153 - loss: 0.6884 - val_binary_accuracy: 0.8989 - val_auc: 0.9109 - val_loss: 0.7203 - lr: 2.5600e-05\n",
            "Epoch 28/30\n",
            "189/189 [==============================] - 140s 742ms/step - binary_accuracy: 0.8991 - auc: 0.9179 - loss: 0.6801 - val_binary_accuracy: 0.9013 - val_auc: 0.9113 - val_loss: 0.7200 - lr: 1.0240e-05\n",
            "Epoch 29/30\n",
            "189/189 [==============================] - ETA: 0s - binary_accuracy: 0.9011 - auc: 0.9200 - loss: 0.6721\n",
            "Epoch 00029: ReduceLROnPlateau reducing learning rate to 4.095999975106679e-06.\n",
            "Restoring model weights from the end of the best epoch.\n",
            "189/189 [==============================] - 154s 814ms/step - binary_accuracy: 0.9011 - auc: 0.9200 - loss: 0.6721 - val_binary_accuracy: 0.8993 - val_auc: 0.9111 - val_loss: 0.7196 - lr: 1.0240e-05\n",
            "Epoch 00029: early stopping\n",
            "\n",
            "\n",
            "__________________________________________________\n",
            "Training fold 4\n",
            "Epoch 1/30\n",
            "189/189 [==============================] - 183s 968ms/step - binary_accuracy: 0.7086 - auc: 0.7278 - loss: 1.7313 - val_binary_accuracy: 0.9085 - val_auc: 0.8466 - val_loss: 0.8916 - lr: 4.0000e-04\n",
            "Epoch 2/30\n",
            "189/189 [==============================] - 161s 851ms/step - binary_accuracy: 0.8113 - auc: 0.7965 - loss: 1.1828 - val_binary_accuracy: 0.8762 - val_auc: 0.8702 - val_loss: 0.8143 - lr: 4.0000e-04\n",
            "Epoch 3/30\n",
            "189/189 [==============================] - 161s 850ms/step - binary_accuracy: 0.8322 - auc: 0.8250 - loss: 1.0350 - val_binary_accuracy: 0.8588 - val_auc: 0.8729 - val_loss: 0.8201 - lr: 4.0000e-04\n",
            "Epoch 4/30\n",
            "189/189 [==============================] - 163s 864ms/step - binary_accuracy: 0.8436 - auc: 0.8453 - loss: 0.9511 - val_binary_accuracy: 0.8203 - val_auc: 0.8794 - val_loss: 0.8385 - lr: 4.0000e-04\n",
            "Epoch 5/30\n",
            "189/189 [==============================] - 152s 806ms/step - binary_accuracy: 0.8537 - auc: 0.8568 - loss: 0.8980 - val_binary_accuracy: 0.8413 - val_auc: 0.8810 - val_loss: 0.8149 - lr: 4.0000e-04\n",
            "Epoch 6/30\n",
            "189/189 [==============================] - 147s 776ms/step - binary_accuracy: 0.8574 - auc: 0.8617 - loss: 0.8797 - val_binary_accuracy: 0.7413 - val_auc: 0.8779 - val_loss: 0.9616 - lr: 4.0000e-04\n",
            "Epoch 7/30\n",
            "189/189 [==============================] - 141s 744ms/step - binary_accuracy: 0.8620 - auc: 0.8662 - loss: 0.8596 - val_binary_accuracy: 0.8252 - val_auc: 0.8899 - val_loss: 0.8098 - lr: 4.0000e-04\n",
            "Epoch 8/30\n",
            "189/189 [==============================] - 153s 812ms/step - binary_accuracy: 0.8682 - auc: 0.8760 - loss: 0.8283 - val_binary_accuracy: 0.8328 - val_auc: 0.8867 - val_loss: 0.8149 - lr: 4.0000e-04\n",
            "Epoch 9/30\n",
            "189/189 [==============================] - ETA: 0s - binary_accuracy: 0.8733 - auc: 0.8799 - loss: 0.8169\n",
            "Epoch 00009: ReduceLROnPlateau reducing learning rate to 0.00015999999595806003.\n",
            "189/189 [==============================] - 138s 731ms/step - binary_accuracy: 0.8733 - auc: 0.8799 - loss: 0.8169 - val_binary_accuracy: 0.8562 - val_auc: 0.8897 - val_loss: 0.7791 - lr: 4.0000e-04\n",
            "Epoch 10/30\n",
            "189/189 [==============================] - 161s 854ms/step - binary_accuracy: 0.8775 - auc: 0.8868 - loss: 0.7928 - val_binary_accuracy: 0.8627 - val_auc: 0.8941 - val_loss: 0.7700 - lr: 1.6000e-04\n",
            "Epoch 11/30\n",
            "189/189 [==============================] - 134s 710ms/step - binary_accuracy: 0.8788 - auc: 0.8910 - loss: 0.7793 - val_binary_accuracy: 0.8738 - val_auc: 0.8923 - val_loss: 0.7604 - lr: 1.6000e-04\n",
            "Epoch 12/30\n",
            "189/189 [==============================] - ETA: 0s - binary_accuracy: 0.8790 - auc: 0.8927 - loss: 0.7743\n",
            "Epoch 00012: ReduceLROnPlateau reducing learning rate to 6.399999838322402e-05.\n",
            "189/189 [==============================] - 139s 738ms/step - binary_accuracy: 0.8790 - auc: 0.8927 - loss: 0.7743 - val_binary_accuracy: 0.8812 - val_auc: 0.8913 - val_loss: 0.7560 - lr: 1.6000e-04\n",
            "Epoch 13/30\n",
            "189/189 [==============================] - 150s 794ms/step - binary_accuracy: 0.8830 - auc: 0.8957 - loss: 0.7635 - val_binary_accuracy: 0.8918 - val_auc: 0.8937 - val_loss: 0.7451 - lr: 6.4000e-05\n",
            "Epoch 14/30\n",
            "189/189 [==============================] - 137s 725ms/step - binary_accuracy: 0.8838 - auc: 0.8966 - loss: 0.7587 - val_binary_accuracy: 0.8906 - val_auc: 0.8955 - val_loss: 0.7383 - lr: 6.4000e-05\n",
            "Epoch 15/30\n",
            "189/189 [==============================] - 142s 749ms/step - binary_accuracy: 0.8833 - auc: 0.8988 - loss: 0.7539 - val_binary_accuracy: 0.8878 - val_auc: 0.8987 - val_loss: 0.7334 - lr: 6.4000e-05\n",
            "Epoch 16/30\n",
            "189/189 [==============================] - 146s 773ms/step - binary_accuracy: 0.8839 - auc: 0.9013 - loss: 0.7421 - val_binary_accuracy: 0.8788 - val_auc: 0.8976 - val_loss: 0.7430 - lr: 6.4000e-05\n",
            "Epoch 17/30\n",
            "189/189 [==============================] - ETA: 0s - binary_accuracy: 0.8863 - auc: 0.9000 - loss: 0.7510\n",
            "Epoch 00017: ReduceLROnPlateau reducing learning rate to 2.5599999935366215e-05.\n",
            "189/189 [==============================] - 131s 695ms/step - binary_accuracy: 0.8863 - auc: 0.9000 - loss: 0.7510 - val_binary_accuracy: 0.8896 - val_auc: 0.8982 - val_loss: 0.7336 - lr: 6.4000e-05\n",
            "Epoch 18/30\n",
            "189/189 [==============================] - 143s 758ms/step - binary_accuracy: 0.8884 - auc: 0.9026 - loss: 0.7405 - val_binary_accuracy: 0.8969 - val_auc: 0.8996 - val_loss: 0.7260 - lr: 2.5600e-05\n",
            "Epoch 19/30\n",
            "189/189 [==============================] - 153s 811ms/step - binary_accuracy: 0.8872 - auc: 0.9073 - loss: 0.7229 - val_binary_accuracy: 0.8928 - val_auc: 0.8992 - val_loss: 0.7276 - lr: 2.5600e-05\n",
            "Epoch 20/30\n",
            "189/189 [==============================] - ETA: 0s - binary_accuracy: 0.8876 - auc: 0.9045 - loss: 0.7315\n",
            "Epoch 00020: ReduceLROnPlateau reducing learning rate to 1.0240000119665639e-05.\n",
            "189/189 [==============================] - 137s 725ms/step - binary_accuracy: 0.8876 - auc: 0.9045 - loss: 0.7315 - val_binary_accuracy: 0.8931 - val_auc: 0.8997 - val_loss: 0.7269 - lr: 2.5600e-05\n",
            "Epoch 21/30\n",
            "189/189 [==============================] - 151s 799ms/step - binary_accuracy: 0.8898 - auc: 0.9075 - loss: 0.7250 - val_binary_accuracy: 0.8905 - val_auc: 0.8991 - val_loss: 0.7323 - lr: 1.0240e-05\n",
            "Epoch 22/30\n",
            "189/189 [==============================] - ETA: 0s - binary_accuracy: 0.8864 - auc: 0.9051 - loss: 0.7304\n",
            "Epoch 00022: ReduceLROnPlateau reducing learning rate to 4.095999975106679e-06.\n",
            "Restoring model weights from the end of the best epoch.\n",
            "189/189 [==============================] - 145s 766ms/step - binary_accuracy: 0.8864 - auc: 0.9051 - loss: 0.7304 - val_binary_accuracy: 0.8912 - val_auc: 0.8991 - val_loss: 0.7320 - lr: 1.0240e-05\n",
            "Epoch 00022: early stopping\n",
            "\n",
            "\n",
            "__________________________________________________\n",
            "Training fold 5\n",
            "Epoch 1/30\n",
            "189/189 [==============================] - 182s 965ms/step - binary_accuracy: 0.7087 - auc: 0.7246 - loss: 1.8066 - val_binary_accuracy: 0.7987 - val_auc: 0.8259 - val_loss: 1.0347 - lr: 4.0000e-04\n",
            "Epoch 2/30\n",
            "189/189 [==============================] - 161s 853ms/step - binary_accuracy: 0.8105 - auc: 0.7947 - loss: 1.1995 - val_binary_accuracy: 0.8305 - val_auc: 0.8690 - val_loss: 0.8590 - lr: 4.0000e-04\n",
            "Epoch 3/30\n",
            "189/189 [==============================] - 163s 861ms/step - binary_accuracy: 0.8292 - auc: 0.8189 - loss: 1.0752 - val_binary_accuracy: 0.8351 - val_auc: 0.8769 - val_loss: 0.8458 - lr: 4.0000e-04\n",
            "Epoch 4/30\n",
            "189/189 [==============================] - 166s 879ms/step - binary_accuracy: 0.8436 - auc: 0.8332 - loss: 0.9928 - val_binary_accuracy: 0.7704 - val_auc: 0.8838 - val_loss: 0.9178 - lr: 4.0000e-04\n",
            "Epoch 5/30\n",
            "189/189 [==============================] - 146s 770ms/step - binary_accuracy: 0.8535 - auc: 0.8509 - loss: 0.9185 - val_binary_accuracy: 0.8053 - val_auc: 0.8850 - val_loss: 0.8553 - lr: 4.0000e-04\n",
            "Epoch 6/30\n",
            "189/189 [==============================] - 160s 848ms/step - binary_accuracy: 0.8542 - auc: 0.8563 - loss: 0.8936 - val_binary_accuracy: 0.8487 - val_auc: 0.8904 - val_loss: 0.8058 - lr: 4.0000e-04\n",
            "Epoch 7/30\n",
            "189/189 [==============================] - 131s 692ms/step - binary_accuracy: 0.8625 - auc: 0.8663 - loss: 0.8542 - val_binary_accuracy: 0.8408 - val_auc: 0.8869 - val_loss: 0.8115 - lr: 4.0000e-04\n",
            "Epoch 8/30\n",
            "189/189 [==============================] - ETA: 0s - binary_accuracy: 0.8658 - auc: 0.8712 - loss: 0.8391\n",
            "Epoch 00008: ReduceLROnPlateau reducing learning rate to 0.00015999999595806003.\n",
            "189/189 [==============================] - 159s 840ms/step - binary_accuracy: 0.8658 - auc: 0.8712 - loss: 0.8391 - val_binary_accuracy: 0.8473 - val_auc: 0.8889 - val_loss: 0.7930 - lr: 4.0000e-04\n",
            "Epoch 9/30\n",
            "189/189 [==============================] - 141s 746ms/step - binary_accuracy: 0.8731 - auc: 0.8778 - loss: 0.8158 - val_binary_accuracy: 0.8474 - val_auc: 0.8944 - val_loss: 0.7877 - lr: 1.6000e-04\n",
            "Epoch 10/30\n",
            "189/189 [==============================] - 154s 817ms/step - binary_accuracy: 0.8756 - auc: 0.8840 - loss: 0.7943 - val_binary_accuracy: 0.8619 - val_auc: 0.8979 - val_loss: 0.7616 - lr: 1.6000e-04\n",
            "Epoch 11/30\n",
            "189/189 [==============================] - 136s 721ms/step - binary_accuracy: 0.8761 - auc: 0.8857 - loss: 0.7952 - val_binary_accuracy: 0.8762 - val_auc: 0.8968 - val_loss: 0.7570 - lr: 1.6000e-04\n",
            "Epoch 12/30\n",
            "189/189 [==============================] - ETA: 0s - binary_accuracy: 0.8784 - auc: 0.8900 - loss: 0.7768\n",
            "Epoch 00012: ReduceLROnPlateau reducing learning rate to 6.399999838322402e-05.\n",
            "189/189 [==============================] - 139s 734ms/step - binary_accuracy: 0.8784 - auc: 0.8900 - loss: 0.7768 - val_binary_accuracy: 0.8609 - val_auc: 0.8961 - val_loss: 0.7664 - lr: 1.6000e-04\n",
            "Epoch 13/30\n",
            "189/189 [==============================] - 152s 805ms/step - binary_accuracy: 0.8807 - auc: 0.8921 - loss: 0.7723 - val_binary_accuracy: 0.8833 - val_auc: 0.9014 - val_loss: 0.7430 - lr: 6.4000e-05\n",
            "Epoch 14/30\n",
            "189/189 [==============================] - 134s 710ms/step - binary_accuracy: 0.8819 - auc: 0.8926 - loss: 0.7678 - val_binary_accuracy: 0.8744 - val_auc: 0.9015 - val_loss: 0.7456 - lr: 6.4000e-05\n",
            "Epoch 15/30\n",
            "189/189 [==============================] - 137s 727ms/step - binary_accuracy: 0.8819 - auc: 0.8941 - loss: 0.7659 - val_binary_accuracy: 0.8828 - val_auc: 0.9017 - val_loss: 0.7392 - lr: 6.4000e-05\n",
            "Epoch 16/30\n",
            "189/189 [==============================] - 149s 791ms/step - binary_accuracy: 0.8816 - auc: 0.8960 - loss: 0.7565 - val_binary_accuracy: 0.8731 - val_auc: 0.9020 - val_loss: 0.7468 - lr: 6.4000e-05\n",
            "Epoch 17/30\n",
            "189/189 [==============================] - 133s 702ms/step - binary_accuracy: 0.8844 - auc: 0.8961 - loss: 0.7556 - val_binary_accuracy: 0.8821 - val_auc: 0.9004 - val_loss: 0.7421 - lr: 6.4000e-05\n",
            "Epoch 18/30\n",
            "189/189 [==============================] - 159s 839ms/step - binary_accuracy: 0.8832 - auc: 0.8976 - loss: 0.7502 - val_binary_accuracy: 0.8889 - val_auc: 0.9036 - val_loss: 0.7328 - lr: 6.4000e-05\n",
            "Epoch 19/30\n",
            "189/189 [==============================] - 134s 711ms/step - binary_accuracy: 0.8856 - auc: 0.9018 - loss: 0.7395 - val_binary_accuracy: 0.8777 - val_auc: 0.9007 - val_loss: 0.7429 - lr: 6.4000e-05\n",
            "Epoch 20/30\n",
            "189/189 [==============================] - ETA: 0s - binary_accuracy: 0.8867 - auc: 0.9030 - loss: 0.7332\n",
            "Epoch 00020: ReduceLROnPlateau reducing learning rate to 2.5599999935366215e-05.\n",
            "189/189 [==============================] - 139s 734ms/step - binary_accuracy: 0.8867 - auc: 0.9030 - loss: 0.7332 - val_binary_accuracy: 0.8866 - val_auc: 0.9011 - val_loss: 0.7383 - lr: 6.4000e-05\n",
            "Epoch 21/30\n",
            "189/189 [==============================] - 151s 799ms/step - binary_accuracy: 0.8873 - auc: 0.9046 - loss: 0.7293 - val_binary_accuracy: 0.8862 - val_auc: 0.9016 - val_loss: 0.7375 - lr: 2.5600e-05\n",
            "Epoch 22/30\n",
            "189/189 [==============================] - ETA: 0s - binary_accuracy: 0.8888 - auc: 0.9089 - loss: 0.7153\n",
            "Epoch 00022: ReduceLROnPlateau reducing learning rate to 1.0240000119665639e-05.\n",
            "Restoring model weights from the end of the best epoch.\n",
            "189/189 [==============================] - 138s 730ms/step - binary_accuracy: 0.8888 - auc: 0.9089 - loss: 0.7153 - val_binary_accuracy: 0.8885 - val_auc: 0.9018 - val_loss: 0.7389 - lr: 2.5600e-05\n",
            "Epoch 00022: early stopping\n"
          ],
          "name": "stdout"
        }
      ]
    },
    {
      "cell_type": "code",
      "metadata": {
        "trusted": true,
        "id": "3u3olj2VF_li",
        "colab_type": "code",
        "colab": {
          "base_uri": "https://localhost:8080/",
          "height": 51
        },
        "outputId": "b0b2b556-bd68-4760-978c-d5e67aa1630d"
      },
      "source": [
        "test_ds = get_test_dataset(TEST_FILENAMES ,ordered = True)\n",
        "test_images_ds = test_ds.map(lambda image, image_name: image)\n",
        "print('Computing predictions...')\n",
        "probabilities = np.average([np.concatenate(models[i].predict(test_images_ds)) for i in range(folds)], axis = 0)\n",
        "print('Generating submission.csv file...')\n",
        "test_ids_ds = test_ds.map(lambda image, image_name: image_name).unbatch()\n",
        "    # all in one batch\n",
        "test_ids = next(iter(test_ids_ds.batch(NUM_TEST_IMAGES))).numpy().astype('U') # all in one batch\n",
        "pred_df = pd.DataFrame({'image_name': test_ids, 'target': probabilities})\n",
        "pred_df.to_csv(\"sub.csv\",index=False)"
      ],
      "execution_count": 15,
      "outputs": [
        {
          "output_type": "stream",
          "text": [
            "Computing predictions...\n",
            "Generating submission.csv file...\n"
          ],
          "name": "stdout"
        }
      ]
    },
    {
      "cell_type": "code",
      "metadata": {
        "id": "GeiTczgsGz9K",
        "colab_type": "code",
        "colab": {
          "base_uri": "https://localhost:8080/",
          "height": 17
        },
        "outputId": "95b06b1f-dbb7-4c71-9ff7-fd687b458045"
      },
      "source": [
        "from google.colab import files\n",
        "files.download('/content/sub.csv')"
      ],
      "execution_count": 14,
      "outputs": [
        {
          "output_type": "display_data",
          "data": {
            "application/javascript": [
              "\n",
              "    async function download(id, filename, size) {\n",
              "      if (!google.colab.kernel.accessAllowed) {\n",
              "        return;\n",
              "      }\n",
              "      const div = document.createElement('div');\n",
              "      const label = document.createElement('label');\n",
              "      label.textContent = `Downloading \"${filename}\": `;\n",
              "      div.appendChild(label);\n",
              "      const progress = document.createElement('progress');\n",
              "      progress.max = size;\n",
              "      div.appendChild(progress);\n",
              "      document.body.appendChild(div);\n",
              "\n",
              "      const buffers = [];\n",
              "      let downloaded = 0;\n",
              "\n",
              "      const channel = await google.colab.kernel.comms.open(id);\n",
              "      // Send a message to notify the kernel that we're ready.\n",
              "      channel.send({})\n",
              "\n",
              "      for await (const message of channel.messages) {\n",
              "        // Send a message to notify the kernel that we're ready.\n",
              "        channel.send({})\n",
              "        if (message.buffers) {\n",
              "          for (const buffer of message.buffers) {\n",
              "            buffers.push(buffer);\n",
              "            downloaded += buffer.byteLength;\n",
              "            progress.value = downloaded;\n",
              "          }\n",
              "        }\n",
              "      }\n",
              "      const blob = new Blob(buffers, {type: 'application/binary'});\n",
              "      const a = document.createElement('a');\n",
              "      a.href = window.URL.createObjectURL(blob);\n",
              "      a.download = filename;\n",
              "      div.appendChild(a);\n",
              "      a.click();\n",
              "      div.remove();\n",
              "    }\n",
              "  "
            ],
            "text/plain": [
              "<IPython.core.display.Javascript object>"
            ]
          },
          "metadata": {
            "tags": []
          }
        },
        {
          "output_type": "display_data",
          "data": {
            "application/javascript": [
              "download(\"download_53929987-cad1-470f-a60e-e588f767b68f\", \"sub.csv\", 261512)"
            ],
            "text/plain": [
              "<IPython.core.display.Javascript object>"
            ]
          },
          "metadata": {
            "tags": []
          }
        }
      ]
    },
    {
      "cell_type": "code",
      "metadata": {
        "id": "Vrr_83ALUqqb",
        "colab_type": "code",
        "colab": {
          "base_uri": "https://localhost:8080/",
          "height": 1000
        },
        "outputId": "56d7c31c-8075-4354-d3ab-1e5e41db988f"
      },
      "source": [
        "display_training_curves(history.history['loss'],\n",
        "                        history.history['val_loss'],\n",
        "                        'loss',211\n",
        "                        )\n",
        "display_training_curves(history.history['auc'],\n",
        "                        history.history['val_auc'],\n",
        "                        'auc',212\n",
        "                        )\n",
        "display_training_curves(history.history['binary_accuracy'],\n",
        "                        history.history['val_binary_accuracy'],\n",
        "                        'loss',311\n",
        "                        )"
      ],
      "execution_count": 17,
      "outputs": [
        {
          "output_type": "display_data",
          "data": {
            "image/png": "[encoded data removed]",
            "text/plain": [
              "<Figure size 720x720 with 2 Axes>"
            ]
          },
          "metadata": {
            "tags": []
          }
        },
        {
          "output_type": "display_data",
          "data": {
            "image/png": "[encoded data removed]",
            "text/plain": [
              "<Figure size 720x720 with 1 Axes>"
            ]
          },
          "metadata": {
            "tags": []
          }
        }
      ]
    },
    {
      "cell_type": "markdown",
      "metadata": {
        "id": "5MLjJhrvVH7b",
        "colab_type": "text"
      },
      "source": [
        "# Got 84% Accuracy After submission\n"
      ]
    }
  ]
}