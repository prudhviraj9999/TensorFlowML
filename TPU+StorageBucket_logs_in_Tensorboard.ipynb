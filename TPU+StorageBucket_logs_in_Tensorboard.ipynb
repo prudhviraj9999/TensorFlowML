{
  "nbformat": 4,
  "nbformat_minor": 0,
  "metadata": {
    "colab": {
      "name": "TPU+StorageBucket logs in Tensorboard.ipynb",
      "provenance": [],
      "collapsed_sections": [],
      "authorship_tag": "ABX9TyP0OYUeSgqmFSTl+YzPPcYP",
      "include_colab_link": true
    },
    "kernelspec": {
      "name": "python3",
      "display_name": "Python 3"
    },
    "accelerator": "TPU"
  },
  "cells": [
    {
      "cell_type": "markdown",
      "metadata": {
        "id": "view-in-github",
        "colab_type": "text"
      },
      "source": [
        "<a href=\"https://colab.research.google.com/github/prudhvirajboddu/TensorFlowML/blob/master/TPU%2BStorageBucket_logs_in_Tensorboard.ipynb\" target=\"_parent\"><img src=\"https://colab.research.google.com/assets/colab-badge.svg\" alt=\"Open In Colab\"/></a>"
      ]
    },
    {
      "cell_type": "code",
      "metadata": {
        "id": "wkQLoZ46DERE",
        "colab_type": "code",
        "colab": {}
      },
      "source": [
        "import tensorflow as tf\n",
        "import os\n",
        "import time\n",
        "\n",
        "mnist = tf.keras.datasets.mnist\n",
        "\n",
        "(x_train, y_train), (x_test, y_test) = mnist.load_data()\n",
        "x_train, x_test = x_train / 255.0, x_test / 255.0"
      ],
      "execution_count": 1,
      "outputs": []
    },
    {
      "cell_type": "code",
      "metadata": {
        "id": "Q4jStNwl0fPH",
        "colab_type": "code",
        "colab": {}
      },
      "source": [
        "IS_COLAB_BACKEND = 'COLAB_GPU' in os.environ #authorize to gcp account to access the private buckets\n",
        "if IS_COLAB_BACKEND:\n",
        "  from google.colab import auth\n",
        "  auth.authenticate_user()"
      ],
      "execution_count": 2,
      "outputs": []
    },
    {
      "cell_type": "code",
      "metadata": {
        "id": "9HGk2GAQDhbH",
        "colab_type": "code",
        "colab": {}
      },
      "source": [
        "model = tf.keras.models.Sequential([\n",
        "  tf.keras.layers.Flatten(input_shape=(28, 28)),\n",
        "  tf.keras.layers.Dense(128, activation='relu'),\n",
        "  tf.keras.layers.Dropout(0.2),\n",
        "  tf.keras.layers.Dense(10)\n",
        "])"
      ],
      "execution_count": 3,
      "outputs": []
    },
    {
      "cell_type": "code",
      "metadata": {
        "id": "_KBh9n_aDjGS",
        "colab_type": "code",
        "colab": {}
      },
      "source": [
        "model.compile(optimizer='adam',\n",
        "              loss=tf.keras.losses.SparseCategoricalCrossentropy(),\n",
        "              metrics=['accuracy'])"
      ],
      "execution_count": 4,
      "outputs": []
    },
    {
      "cell_type": "code",
      "metadata": {
        "id": "wKz0MYbxEBZ7",
        "colab_type": "code",
        "colab": {
          "base_uri": "https://localhost:8080/",
          "height": 35
        },
        "outputId": "a7197931-5b7e-4077-9b00-0b2ebb2f6d5b"
      },
      "source": [
        "BUCKET='gs://1_tb_logs' #storage bucket in gcs\n",
        "timestamp = time.strftime(\"%Y-%m-%d-%H-%M-%S\")\n",
        "log_dir=os.path.join(BUCKET, 'mnist-logs', timestamp)\n",
        "tb_callback = tf.keras.callbacks.TensorBoard(log_dir=log_dir)\n",
        "print(\"Tensorboard loggs written to: \", log_dir)"
      ],
      "execution_count": 5,
      "outputs": [
        {
          "output_type": "stream",
          "text": [
            "Tensorboard loggs written to:  gs://1_tb_logs/mnist-logs/2020-07-31-03-06-52\n"
          ],
          "name": "stdout"
        }
      ]
    },
    {
      "cell_type": "code",
      "metadata": {
        "id": "3GwuDDjvFvuh",
        "colab_type": "code",
        "colab": {
          "base_uri": "https://localhost:8080/",
          "height": 437
        },
        "outputId": "84f621d9-70a5-4ccd-8e14-116c68c7edbd"
      },
      "source": [
        "model.fit(x_train,y_train,epochs=10,steps_per_epoch=50,callbacks=[tb_callback])"
      ],
      "execution_count": 6,
      "outputs": [
        {
          "output_type": "stream",
          "text": [
            "Epoch 1/10\n",
            " 2/50 [>.............................] - ETA: 1:17 - loss: 11.2163 - accuracy: 0.0921WARNING:tensorflow:Method (on_train_batch_end) is slow compared to the batch update (1.608294). Check your callbacks.\n",
            "50/50 [==============================] - 4s 85ms/step - loss: 3.0817 - accuracy: 0.5132\n",
            "Epoch 2/10\n",
            "50/50 [==============================] - 1s 22ms/step - loss: 1.4142 - accuracy: 0.6784\n",
            "Epoch 3/10\n",
            "50/50 [==============================] - 1s 21ms/step - loss: 1.2160 - accuracy: 0.7556\n",
            "Epoch 4/10\n",
            "50/50 [==============================] - 1s 21ms/step - loss: 1.2471 - accuracy: 0.7903\n",
            "Epoch 5/10\n",
            "50/50 [==============================] - 1s 21ms/step - loss: 1.2345 - accuracy: 0.8004\n",
            "Epoch 6/10\n",
            "50/50 [==============================] - 1s 21ms/step - loss: 1.2072 - accuracy: 0.8255\n",
            "Epoch 7/10\n",
            "50/50 [==============================] - 1s 22ms/step - loss: 1.4346 - accuracy: 0.6336\n",
            "Epoch 8/10\n",
            "50/50 [==============================] - 1s 21ms/step - loss: 1.2159 - accuracy: 0.7616\n",
            "Epoch 9/10\n",
            "50/50 [==============================] - 1s 21ms/step - loss: 1.1042 - accuracy: 0.8237\n",
            "Epoch 10/10\n",
            "50/50 [==============================] - 1s 21ms/step - loss: 1.2036 - accuracy: 0.8385\n"
          ],
          "name": "stdout"
        },
        {
          "output_type": "execute_result",
          "data": {
            "text/plain": [
              "<tensorflow.python.keras.callbacks.History at 0x7fbe33205be0>"
            ]
          },
          "metadata": {
            "tags": []
          },
          "execution_count": 6
        }
      ]
    },
    {
      "cell_type": "markdown",
      "metadata": {
        "id": "AA--6n2y89Ym",
        "colab_type": "text"
      },
      "source": [
        "# For now cannot access the logs in colab we can download the logs into our system and can visualize them\n",
        "[Check this to download the bucket data to local as .zip file](https://stackoverflow.com/questions/11640637/download-files-and-folders-from-google-storage-bucket-to-a-local-folder)"
      ]
    }
  ]
}